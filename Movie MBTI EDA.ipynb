{
 "cells": [
  {
   "cell_type": "markdown",
   "id": "3115d559",
   "metadata": {},
   "source": [
    "# EDA on Movie Character MBTI and Enneagrams "
   ]
  },
  {
   "cell_type": "markdown",
   "id": "28be6564",
   "metadata": {},
   "source": [
    "### Libraries!"
   ]
  },
  {
   "cell_type": "code",
   "execution_count": 1,
   "id": "5b84b0b9",
   "metadata": {},
   "outputs": [],
   "source": [
    "import numpy as np\n",
    "import pandas as pd \n",
    "import matplotlib.pyplot as plt\n",
    "import seaborn as sns"
   ]
  },
  {
   "cell_type": "markdown",
   "id": "7370be41",
   "metadata": {},
   "source": [
    "## 1. Planning"
   ]
  },
  {
   "cell_type": "markdown",
   "id": "da53e026",
   "metadata": {},
   "source": [
    "**Objective:** Practice EDA and Data Visualizations using matplotlib and seaborn, clean/understand dataset  \n",
    "\n",
    "**Goals:**\n",
    "- find most common MBTI and enneagram of ALL characters, particular movie series \n",
    "- most common MBTI and enneagram pairings"
   ]
  },
  {
   "cell_type": "markdown",
   "id": "b184beab",
   "metadata": {},
   "source": [
    "## 2. Data Cleaning"
   ]
  },
  {
   "cell_type": "markdown",
   "id": "5b3714bb",
   "metadata": {},
   "source": [
    "###  But first... reading and understanding data"
   ]
  },
  {
   "cell_type": "code",
   "execution_count": 5,
   "id": "2db7bc59",
   "metadata": {},
   "outputs": [
    {
     "data": {
      "text/html": [
       "<div>\n",
       "<style scoped>\n",
       "    .dataframe tbody tr th:only-of-type {\n",
       "        vertical-align: middle;\n",
       "    }\n",
       "\n",
       "    .dataframe tbody tr th {\n",
       "        vertical-align: top;\n",
       "    }\n",
       "\n",
       "    .dataframe thead th {\n",
       "        text-align: right;\n",
       "    }\n",
       "</style>\n",
       "<table border=\"1\" class=\"dataframe\">\n",
       "  <thead>\n",
       "    <tr style=\"text-align: right;\">\n",
       "      <th></th>\n",
       "      <th>stat</th>\n",
       "      <th>mbti</th>\n",
       "      <th>enneagram</th>\n",
       "      <th>role</th>\n",
       "      <th>movie</th>\n",
       "      <th>img_url</th>\n",
       "    </tr>\n",
       "  </thead>\n",
       "  <tbody>\n",
       "    <tr>\n",
       "      <th>0</th>\n",
       "      <td>697 / 162</td>\n",
       "      <td>ESFP</td>\n",
       "      <td>7w6</td>\n",
       "      <td>Peter Quill \"Star-Lord\"</td>\n",
       "      <td>Marvel Cinematic Universe</td>\n",
       "      <td>https://www.personality-database.com/profile_i...</td>\n",
       "    </tr>\n",
       "    <tr>\n",
       "      <th>1</th>\n",
       "      <td>668 / 231</td>\n",
       "      <td>ESFP</td>\n",
       "      <td>8w7</td>\n",
       "      <td>Anakin Skywalker</td>\n",
       "      <td>Star Wars</td>\n",
       "      <td>https://www.personality-database.com/profile_i...</td>\n",
       "    </tr>\n",
       "    <tr>\n",
       "      <th>2</th>\n",
       "      <td>589 / 243</td>\n",
       "      <td>ESFP</td>\n",
       "      <td>6w7</td>\n",
       "      <td>Ron Weasley</td>\n",
       "      <td>Harry Potter (franchise)</td>\n",
       "      <td>https://www.personality-database.com/profile_i...</td>\n",
       "    </tr>\n",
       "    <tr>\n",
       "      <th>3</th>\n",
       "      <td>312 / 101</td>\n",
       "      <td>ESFP</td>\n",
       "      <td>7w8</td>\n",
       "      <td>Bellatrix Lestrange</td>\n",
       "      <td>Harry Potter (franchise)</td>\n",
       "      <td>https://www.personality-database.com/profile_i...</td>\n",
       "    </tr>\n",
       "    <tr>\n",
       "      <th>4</th>\n",
       "      <td>302 / 105</td>\n",
       "      <td>ESFP</td>\n",
       "      <td>7w6</td>\n",
       "      <td>Simba</td>\n",
       "      <td>The Lion King (1994)</td>\n",
       "      <td>https://www.personality-database.com/profile_i...</td>\n",
       "    </tr>\n",
       "  </tbody>\n",
       "</table>\n",
       "</div>"
      ],
      "text/plain": [
       "          stat  mbti enneagram                     role  \\\n",
       "0  697 / 162    ESFP       7w6  Peter Quill \"Star-Lord\"   \n",
       "1  668 / 231    ESFP       8w7         Anakin Skywalker   \n",
       "2  589 / 243    ESFP       6w7              Ron Weasley   \n",
       "3  312 / 101    ESFP       7w8      Bellatrix Lestrange   \n",
       "4  302 / 105    ESFP       7w6                    Simba   \n",
       "\n",
       "                          movie  \\\n",
       "0     Marvel Cinematic Universe   \n",
       "1                     Star Wars   \n",
       "2      Harry Potter (franchise)   \n",
       "3      Harry Potter (franchise)   \n",
       "4          The Lion King (1994)   \n",
       "\n",
       "                                             img_url  \n",
       "0  https://www.personality-database.com/profile_i...  \n",
       "1  https://www.personality-database.com/profile_i...  \n",
       "2  https://www.personality-database.com/profile_i...  \n",
       "3  https://www.personality-database.com/profile_i...  \n",
       "4  https://www.personality-database.com/profile_i...  "
      ]
     },
     "execution_count": 5,
     "metadata": {},
     "output_type": "execute_result"
    }
   ],
   "source": [
    "df = pd.read_csv('mbti.csv/mbti.csv')\n",
    "df.head()"
   ]
  },
  {
   "cell_type": "code",
   "execution_count": 7,
   "id": "cf88930f",
   "metadata": {},
   "outputs": [
    {
     "name": "stdout",
     "output_type": "stream",
     "text": [
      "<class 'pandas.core.frame.DataFrame'>\n",
      "RangeIndex: 18741 entries, 0 to 18740\n",
      "Data columns (total 6 columns):\n",
      " #   Column     Non-Null Count  Dtype \n",
      "---  ------     --------------  ----- \n",
      " 0   stat       18476 non-null  object\n",
      " 1   mbti       18741 non-null  object\n",
      " 2   enneagram  12066 non-null  object\n",
      " 3   role       18741 non-null  object\n",
      " 4   movie      18741 non-null  object\n",
      " 5   img_url    18741 non-null  object\n",
      "dtypes: object(6)\n",
      "memory usage: 878.6+ KB\n"
     ]
    }
   ],
   "source": [
    "df.info()"
   ]
  },
  {
   "cell_type": "markdown",
   "id": "f8c39a0f",
   "metadata": {},
   "source": [
    "### Data Cleaning"
   ]
  },
  {
   "cell_type": "markdown",
   "id": "254a33d0",
   "metadata": {},
   "source": [
    "#### Dropping Unnecessary Columns"
   ]
  },
  {
   "cell_type": "code",
   "execution_count": 35,
   "id": "b0dde366",
   "metadata": {},
   "outputs": [
    {
     "data": {
      "text/html": [
       "<div>\n",
       "<style scoped>\n",
       "    .dataframe tbody tr th:only-of-type {\n",
       "        vertical-align: middle;\n",
       "    }\n",
       "\n",
       "    .dataframe tbody tr th {\n",
       "        vertical-align: top;\n",
       "    }\n",
       "\n",
       "    .dataframe thead th {\n",
       "        text-align: right;\n",
       "    }\n",
       "</style>\n",
       "<table border=\"1\" class=\"dataframe\">\n",
       "  <thead>\n",
       "    <tr style=\"text-align: right;\">\n",
       "      <th></th>\n",
       "      <th>mbti</th>\n",
       "      <th>enneagram</th>\n",
       "      <th>role</th>\n",
       "      <th>movie</th>\n",
       "    </tr>\n",
       "  </thead>\n",
       "  <tbody>\n",
       "    <tr>\n",
       "      <th>0</th>\n",
       "      <td>ESFP</td>\n",
       "      <td>7w6</td>\n",
       "      <td>Peter Quill \"Star-Lord\"</td>\n",
       "      <td>Marvel Cinematic Universe</td>\n",
       "    </tr>\n",
       "    <tr>\n",
       "      <th>1</th>\n",
       "      <td>ESFP</td>\n",
       "      <td>8w7</td>\n",
       "      <td>Anakin Skywalker</td>\n",
       "      <td>Star Wars</td>\n",
       "    </tr>\n",
       "    <tr>\n",
       "      <th>2</th>\n",
       "      <td>ESFP</td>\n",
       "      <td>6w7</td>\n",
       "      <td>Ron Weasley</td>\n",
       "      <td>Harry Potter (franchise)</td>\n",
       "    </tr>\n",
       "    <tr>\n",
       "      <th>3</th>\n",
       "      <td>ESFP</td>\n",
       "      <td>7w8</td>\n",
       "      <td>Bellatrix Lestrange</td>\n",
       "      <td>Harry Potter (franchise)</td>\n",
       "    </tr>\n",
       "    <tr>\n",
       "      <th>4</th>\n",
       "      <td>ESFP</td>\n",
       "      <td>7w6</td>\n",
       "      <td>Simba</td>\n",
       "      <td>The Lion King (1994)</td>\n",
       "    </tr>\n",
       "  </tbody>\n",
       "</table>\n",
       "</div>"
      ],
      "text/plain": [
       "   mbti enneagram                     role                         movie\n",
       "0  ESFP       7w6  Peter Quill \"Star-Lord\"     Marvel Cinematic Universe\n",
       "1  ESFP       8w7         Anakin Skywalker                     Star Wars\n",
       "2  ESFP       6w7              Ron Weasley      Harry Potter (franchise)\n",
       "3  ESFP       7w8      Bellatrix Lestrange      Harry Potter (franchise)\n",
       "4  ESFP       7w6                    Simba          The Lion King (1994)"
      ]
     },
     "execution_count": 35,
     "metadata": {},
     "output_type": "execute_result"
    }
   ],
   "source": [
    "# df.drop('stat', 'img_url')\n",
    "df.head()"
   ]
  },
  {
   "cell_type": "markdown",
   "id": "8efb9e06",
   "metadata": {},
   "source": [
    "#### Dropping Nan Values"
   ]
  },
  {
   "cell_type": "code",
   "execution_count": 27,
   "id": "d1624cc0",
   "metadata": {},
   "outputs": [
    {
     "data": {
      "text/plain": [
       "(6675, 4)"
      ]
     },
     "execution_count": 27,
     "metadata": {},
     "output_type": "execute_result"
    }
   ],
   "source": [
    "df[df.isna().any(axis=1)].shape"
   ]
  },
  {
   "cell_type": "code",
   "execution_count": 33,
   "id": "a87c0dae",
   "metadata": {},
   "outputs": [
    {
     "data": {
      "text/html": [
       "<div>\n",
       "<style scoped>\n",
       "    .dataframe tbody tr th:only-of-type {\n",
       "        vertical-align: middle;\n",
       "    }\n",
       "\n",
       "    .dataframe tbody tr th {\n",
       "        vertical-align: top;\n",
       "    }\n",
       "\n",
       "    .dataframe thead th {\n",
       "        text-align: right;\n",
       "    }\n",
       "</style>\n",
       "<table border=\"1\" class=\"dataframe\">\n",
       "  <thead>\n",
       "    <tr style=\"text-align: right;\">\n",
       "      <th></th>\n",
       "      <th>mbti</th>\n",
       "      <th>enneagram</th>\n",
       "      <th>role</th>\n",
       "      <th>movie</th>\n",
       "    </tr>\n",
       "  </thead>\n",
       "  <tbody>\n",
       "  </tbody>\n",
       "</table>\n",
       "</div>"
      ],
      "text/plain": [
       "Empty DataFrame\n",
       "Columns: [mbti, enneagram, role, movie]\n",
       "Index: []"
      ]
     },
     "execution_count": 33,
     "metadata": {},
     "output_type": "execute_result"
    }
   ],
   "source": [
    "df = df.dropna()\n",
    "df[df.isna().any(axis=1)] # no more null values!"
   ]
  },
  {
   "cell_type": "markdown",
   "id": "217cbbba",
   "metadata": {},
   "source": [
    "#### Dropping 'XXXX' Values"
   ]
  },
  {
   "cell_type": "code",
   "execution_count": 36,
   "id": "867b6ac9",
   "metadata": {},
   "outputs": [
    {
     "data": {
      "text/plain": [
       "array(['ESFP', 'XXXX', 'ESFJ', 'ESTP', 'ESTJ', 'ENFP', 'ENFJ', 'ENTP',\n",
       "       'ENTJ', 'ISFP', 'ISFJ', 'ISTP', 'ISTJ', 'INFP', 'INFJ', 'INTP',\n",
       "       'INTJ'], dtype=object)"
      ]
     },
     "execution_count": 36,
     "metadata": {},
     "output_type": "execute_result"
    }
   ],
   "source": [
    "df['mbti'].unique()"
   ]
  },
  {
   "cell_type": "code",
   "execution_count": 40,
   "id": "d867f9c8",
   "metadata": {},
   "outputs": [
    {
     "data": {
      "text/plain": [
       "array(['ESFP', 'ESFJ', 'ESTP', 'ESTJ', 'ENFP', 'ENFJ', 'ENTP', 'ENTJ',\n",
       "       'ISFP', 'ISFJ', 'ISTP', 'ISTJ', 'INFP', 'INFJ', 'INTP', 'INTJ'],\n",
       "      dtype=object)"
      ]
     },
     "execution_count": 40,
     "metadata": {},
     "output_type": "execute_result"
    }
   ],
   "source": [
    "df = df[df['mbti'] != 'XXXX']\n",
    "df['mbti'].unique()"
   ]
  },
  {
   "cell_type": "markdown",
   "id": "122a3b3f",
   "metadata": {},
   "source": [
    "## 3. EDA and Observations"
   ]
  },
  {
   "cell_type": "markdown",
   "id": "dccdd525",
   "metadata": {},
   "source": [
    "### Understanding Distribution "
   ]
  },
  {
   "cell_type": "code",
   "execution_count": 42,
   "id": "900bd694",
   "metadata": {},
   "outputs": [
    {
     "data": {
      "text/html": [
       "<div>\n",
       "<style scoped>\n",
       "    .dataframe tbody tr th:only-of-type {\n",
       "        vertical-align: middle;\n",
       "    }\n",
       "\n",
       "    .dataframe tbody tr th {\n",
       "        vertical-align: top;\n",
       "    }\n",
       "\n",
       "    .dataframe thead th {\n",
       "        text-align: right;\n",
       "    }\n",
       "</style>\n",
       "<table border=\"1\" class=\"dataframe\">\n",
       "  <thead>\n",
       "    <tr style=\"text-align: right;\">\n",
       "      <th></th>\n",
       "      <th>mbti</th>\n",
       "      <th>enneagram</th>\n",
       "      <th>role</th>\n",
       "      <th>movie</th>\n",
       "    </tr>\n",
       "  </thead>\n",
       "  <tbody>\n",
       "    <tr>\n",
       "      <th>0</th>\n",
       "      <td>ESFP</td>\n",
       "      <td>7w6</td>\n",
       "      <td>Peter Quill \"Star-Lord\"</td>\n",
       "      <td>Marvel Cinematic Universe</td>\n",
       "    </tr>\n",
       "    <tr>\n",
       "      <th>1</th>\n",
       "      <td>ESFP</td>\n",
       "      <td>8w7</td>\n",
       "      <td>Anakin Skywalker</td>\n",
       "      <td>Star Wars</td>\n",
       "    </tr>\n",
       "    <tr>\n",
       "      <th>2</th>\n",
       "      <td>ESFP</td>\n",
       "      <td>6w7</td>\n",
       "      <td>Ron Weasley</td>\n",
       "      <td>Harry Potter (franchise)</td>\n",
       "    </tr>\n",
       "    <tr>\n",
       "      <th>3</th>\n",
       "      <td>ESFP</td>\n",
       "      <td>7w8</td>\n",
       "      <td>Bellatrix Lestrange</td>\n",
       "      <td>Harry Potter (franchise)</td>\n",
       "    </tr>\n",
       "    <tr>\n",
       "      <th>4</th>\n",
       "      <td>ESFP</td>\n",
       "      <td>7w6</td>\n",
       "      <td>Simba</td>\n",
       "      <td>The Lion King (1994)</td>\n",
       "    </tr>\n",
       "  </tbody>\n",
       "</table>\n",
       "</div>"
      ],
      "text/plain": [
       "   mbti enneagram                     role                         movie\n",
       "0  ESFP       7w6  Peter Quill \"Star-Lord\"     Marvel Cinematic Universe\n",
       "1  ESFP       8w7         Anakin Skywalker                     Star Wars\n",
       "2  ESFP       6w7              Ron Weasley      Harry Potter (franchise)\n",
       "3  ESFP       7w8      Bellatrix Lestrange      Harry Potter (franchise)\n",
       "4  ESFP       7w6                    Simba          The Lion King (1994)"
      ]
     },
     "execution_count": 42,
     "metadata": {},
     "output_type": "execute_result"
    }
   ],
   "source": [
    "df.head()"
   ]
  },
  {
   "cell_type": "code",
   "execution_count": 80,
   "id": "07526d25",
   "metadata": {},
   "outputs": [
    {
     "data": {
      "text/plain": [
       "Text(0, 0.5, 'Count')"
      ]
     },
     "execution_count": 80,
     "metadata": {},
     "output_type": "execute_result"
    },
    {
     "data": {
      "image/png": "[encoded data removed]",
      "text/plain": [
       "<Figure size 864x504 with 1 Axes>"
      ]
     },
     "metadata": {
      "needs_background": "light"
     },
     "output_type": "display_data"
    }
   ],
   "source": [
    "plt.figure(figsize=(12,7))\n",
    "mbti_counts = df.mbti.value_counts().sort_values(ascending = False).plot.bar(color=['#898AA6', '#C9BBCF','#B7D3DF', '#D6EFED'])\n",
    "plt.title('MBTI Distribution', fontsize = 20)\n",
    "plt.xlabel('MBTI', fontsize = 12)\n",
    "plt.ylabel('Count', fontsize = 12)"
   ]
  },
  {
   "cell_type": "markdown",
   "id": "7ae52eeb",
   "metadata": {},
   "source": [
    "**Key Takeaway:** It appears that most movie characters are ESTP, ESFP, and ISFJ, but not significantly. "
   ]
  },
  {
   "cell_type": "code",
   "execution_count": 82,
   "id": "aced5698",
   "metadata": {},
   "outputs": [
    {
     "data": {
      "text/plain": [
       "Text(0, 0.5, 'Count')"
      ]
     },
     "execution_count": 82,
     "metadata": {},
     "output_type": "execute_result"
    },
    {
     "data": {
      "image/png": "[encoded data removed]",
      "text/plain": [
       "<Figure size 864x504 with 1 Axes>"
      ]
     },
     "metadata": {
      "needs_background": "light"
     },
     "output_type": "display_data"
    }
   ],
   "source": [
    "plt.figure(figsize=(12,7))\n",
    "df.enneagram.value_counts().sort_values(ascending = False).plot.bar(color=['#FFE6E6', '#F2D1D1','#DAEAF1', '#C6DCE4'])\n",
    "plt.title('Enneagram Distribution', fontsize = 20)\n",
    "plt.xlabel('Enneagram', fontsize = 12)\n",
    "plt.ylabel('Count', fontsize = 12)"
   ]
  },
  {
   "cell_type": "markdown",
   "id": "f8214ba8",
   "metadata": {},
   "source": [
    "**Key Takeaway:** Most characters tend to be an Enneagram type 6 wing 5, 8 wing 7, or 7 wing 8. Similarly to the MBTI distribution, there is not a significant increase between each enneagram, suggesting that all of these movie characters do in fact hold a variety of MBTI and Enneagram personality types."
   ]
  },
  {
   "cell_type": "markdown",
   "id": "08c3ac35",
   "metadata": {},
   "source": [
    "### MCU Characters: Most Common MBTI and Enneagram"
   ]
  },
  {
   "cell_type": "code",
   "execution_count": 125,
   "id": "b0d116cc",
   "metadata": {},
   "outputs": [
    {
     "data": {
      "text/plain": [
       "Text(0, 0.5, 'Count')"
      ]
     },
     "execution_count": 125,
     "metadata": {},
     "output_type": "execute_result"
    },
    {
     "data": {
      "image/png": "[encoded data removed]",
      "text/plain": [
       "<Figure size 576x360 with 1 Axes>"
      ]
     },
     "metadata": {
      "needs_background": "light"
     },
     "output_type": "display_data"
    }
   ],
   "source": [
    "marvel = df[df['movie'] == '   Marvel Cinematic Universe']\n",
    "\n",
    "#mbti\n",
    "marvel_mbti = marvel['mbti'].value_counts().head(10).index.tolist()\n",
    "marvel_mbti_count = marvel['mbti'].value_counts().head(10).values.tolist()\n",
    "\n",
    "plt.figure(figsize=(8,5))\n",
    "plt.bar(marvel_mbti, marvel_mbti_count, color='#B1BCE6')\n",
    "\n",
    "plt.title('Top 10 MBTI Personalities MCU Characters', fontsize = 16)\n",
    "plt.xlabel('MBTI', fontsize = 12)\n",
    "plt.ylabel('Count', fontsize = 12)"
   ]
  }
 ],
 "metadata": {
  "kernelspec": {
   "display_name": "Python 3 (ipykernel)",
   "language": "python",
   "name": "python3"
  },
  "language_info": {
   "codemirror_mode": {
    "name": "ipython",
    "version": 3
   },
   "file_extension": ".py",
   "mimetype": "text/x-python",
   "name": "python",
   "nbconvert_exporter": "python",
   "pygments_lexer": "ipython3",
   "version": "3.10.5"
  }
 },
 "nbformat": 4,
 "nbformat_minor": 5
}
